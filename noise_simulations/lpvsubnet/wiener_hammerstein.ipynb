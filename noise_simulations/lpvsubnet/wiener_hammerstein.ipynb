{
 "cells": [
  {
   "cell_type": "code",
   "execution_count": 1,
   "id": "963bf040",
   "metadata": {},
   "outputs": [],
   "source": [
    "import deepSI\n",
    "from matplotlib import pyplot as plt\n",
    "train, test = deepSI.datasets.WienerHammerBenchMark(split_data=True)\n",
    "from encoder_LPV_models import LPV_multi_encoder, LPV_single_encoder"
   ]
  },
  {
   "cell_type": "code",
   "execution_count": 3,
   "id": "9e145fa6",
   "metadata": {},
   "outputs": [
    {
     "data": {
      "image/png": "[encoded data removed]",
      "text/plain": [
       "<Figure size 432x288 with 1 Axes>"
      ]
     },
     "metadata": {
      "needs_background": "light"
     },
     "output_type": "display_data"
    }
   ],
   "source": [
    "train.plot()\n",
    "test.plot(show=True)"
   ]
  },
  {
   "cell_type": "code",
   "execution_count": null,
   "id": "cc26565d",
   "metadata": {},
   "outputs": [],
   "source": [
    "#########################################################\n",
    "# LPV-SUBNET with six states and one scheduling parameter\n",
    "#########################################################"
   ]
  },
  {
   "cell_type": "code",
   "execution_count": 6,
   "id": "28d325a6",
   "metadata": {},
   "outputs": [],
   "source": [
    "sys = LPV_single_encoder(nx=6, Np=1, na=20, nb=20, feedthrough=True, include_u_in_p=True, f_net_kwargs=dict(F=10), \\\n",
    "                        e_net_kwargs=dict(n_nodes_per_layer = 16, n_hidden_layers = 1), \\\n",
    "                        p_net_kwargs=dict(n_nodes_per_layer = 16, n_hidden_layers = 1))\n",
    "sys.init_model(sys_data=train, optimizer_kwargs=dict(lr = 1e-02))"
   ]
  },
  {
   "cell_type": "code",
   "execution_count": null,
   "id": "50bb5a56",
   "metadata": {},
   "outputs": [],
   "source": [
    "sys.fit(train[:70000], train[-30000:], epochs = 100, loss_kwargs=dict(nf=80, loss_nf_cutoff=2))\n",
    "sys.fit(train, train[-30000:], epochs = 1000, loss_kwargs=dict(nf=120, loss_nf_cutoff=2))\n",
    "sys.fit(train, train[-40000:], epochs = 1000, batch_size = 1000, loss_kwargs=dict(nf=150, loss_nf_cutoff=2))\n",
    "sys.fit(train, train[-40000:], epochs = 1000, batch_size = 2000, loss_kwargs=dict(nf=200, loss_nf_cutoff=2))\n",
    "sys.fit(train, train[-40000:], epochs = 1000, batch_size = 5000, loss_kwargs=dict(nf=200, loss_nf_cutoff=2))"
   ]
  },
  {
   "cell_type": "code",
   "execution_count": 7,
   "id": "7f213503",
   "metadata": {},
   "outputs": [],
   "source": [
    "sys = deepSI.load_system('results/wh_nx6_np1_na20_nb20')"
   ]
  },
  {
   "cell_type": "code",
   "execution_count": 8,
   "id": "fec61a3f",
   "metadata": {},
   "outputs": [
    {
     "name": "stdout",
     "output_type": "stream",
     "text": [
      "Test RMS: 1.1576134893769106 mV\n",
      "Test NRMS: 0.47470943158268963%\n"
     ]
    }
   ],
   "source": [
    "res = sys.apply_experiment(test)\n",
    "print(\"Test RMS: \" + str(res.RMS(test) * 1000) + \" mV\")\n",
    "print(\"Test NRMS: \" + str(res.NRMS(test) * 100) + \"%\")"
   ]
  },
  {
   "cell_type": "code",
   "execution_count": null,
   "id": "53f7654d",
   "metadata": {},
   "outputs": [],
   "source": [
    "###########################################################\n",
    "# LPV-SUBNET with six states and three scheduling parameter\n",
    "###########################################################"
   ]
  },
  {
   "cell_type": "code",
   "execution_count": 9,
   "id": "55399903",
   "metadata": {},
   "outputs": [],
   "source": [
    "sys = LPV_single_encoder(nx=6, Np=3, na=20, nb=20, feedthrough=True, include_u_in_p=True, f_net_kwargs=dict(F=10), \\\n",
    "                        e_net_kwargs=dict(n_nodes_per_layer = 64, n_hidden_layers = 1), \\\n",
    "                        p_net_kwargs=dict(n_nodes_per_layer = 64, n_hidden_layers = 1))\n",
    "sys.init_model(sys_data=train, optimizer_kwargs=dict(lr = 1e-03))"
   ]
  },
  {
   "cell_type": "code",
   "execution_count": null,
   "id": "023be42d",
   "metadata": {},
   "outputs": [],
   "source": [
    "sys.fit(train, train[-30000:], epochs = 10000, loss_kwargs=dict(nf=80, loss_nf_cutoff=2))"
   ]
  },
  {
   "cell_type": "code",
   "execution_count": 2,
   "id": "481692cb",
   "metadata": {},
   "outputs": [],
   "source": [
    "sys = deepSI.load_system('results/wh_nx6_np3_na20_nb20')"
   ]
  },
  {
   "cell_type": "code",
   "execution_count": 3,
   "id": "0f6618eb",
   "metadata": {},
   "outputs": [
    {
     "name": "stdout",
     "output_type": "stream",
     "text": [
      "Test RMS: 0.6932944390774695 mV\n",
      "Test NRMS: 0.2843033638723851%\n"
     ]
    }
   ],
   "source": [
    "res = sys.apply_experiment(test)\n",
    "print(\"Test RMS: \" + str(res.RMS(test) * 1000) + \" mV\")\n",
    "print(\"Test NRMS: \" + str(res.NRMS(test) * 100) + \"%\")"
   ]
  },
  {
   "cell_type": "code",
   "execution_count": null,
   "id": "0e64c29e",
   "metadata": {},
   "outputs": [],
   "source": [
    "name1 = \"results/wh_out.m\"\n",
    "name2 = \"results/wh_real_out.m\"\n",
    "\n",
    "logY = res.y\n",
    "logYR = test.y\n",
    "with open(name1, \"w+\") as f:\n",
    "    f.write(\"y = [\" + str(logY[0]) + \",\\n\")\n",
    "    for i in range(1, logY.size - 1):\n",
    "        f.write(str(logY[i]) + \",\\n\")\n",
    "    f.write(str(logY[logY.size - 1]) + \"];\\n\")\n",
    "\n",
    "with open(name2, \"w+\") as f:\n",
    "    f.write(\"yr = [\" + str(logYR[0]) + \",\\n\")\n",
    "    for i in range(1, logY.size - 1):\n",
    "        f.write(str(logYR[i]) + \"\\n\")\n",
    "    f.write(str(logYR[logY.size - 1]) + \"];\\n\")"
   ]
  }
 ],
 "metadata": {
  "kernelspec": {
   "display_name": "Python 3 (ipykernel)",
   "language": "python",
   "name": "python3"
  },
  "language_info": {
   "codemirror_mode": {
    "name": "ipython",
    "version": 3
   },
   "file_extension": ".py",
   "mimetype": "text/x-python",
   "name": "python",
   "nbconvert_exporter": "python",
   "pygments_lexer": "ipython3",
   "version": "3.9.5"
  }
 },
 "nbformat": 4,
 "nbformat_minor": 5
}
